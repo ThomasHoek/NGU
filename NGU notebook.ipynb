{
 "cells": [
  {
   "cell_type": "markdown",
   "id": "utility-surname",
   "metadata": {
    "hideCode": false,
    "hidePrompt": false
   },
   "source": [
    "TODO: \n",
    "- [ ] Update spreadsheet.\n",
    "- [ ] Replace the statfile with a more customisable excel document which can be given as an input. People know to use excel and everyone wants to use excel, so I will make them use excel.\n",
    "    - [x] Input with an JSON? idk something for maybe the future but im lazy\n",
    "        - [X] fail the entire sim, go cry for a few days.\n",
    "    \n",
    "    \n",
    "- [ ] Re,pve ??? \n",
    "\n",
    "\n",
    "- [X] Make everyone else cry by adding suffix.\n",
    "\n",
    "  \n",
    "- [ ] Add a function which checks before the simulation if is not an impossible scenario:\n",
    "    - [ ] no future above level 100\n",
    "    - [ ] no negative numbers anywhere\n",
    "    - [ ] if there are restrictions, future has to be 100 or something along those lines\n",
    "    \n",
    "    \n",
    "    \n",
    "- [x] Update proper imports\n",
    "- [x] Make sure the simulations works \"good enough\"\n",
    "    - [x] or should I be lazy? I should ask butter for his coin to decide this.\n",
    "    \n",
    "    \n",
    "\n",
    "- [ ] Convert this notebook to a .py file and add a c++ file with the sim using subprocess for increased speed and flex on those who said \"c++ is better, why do you use python\" only to get inevitably flexed on because I am still using python in the end.\n",
    "    - [ ] fail the entire sim again, go cry for a few days.\n",
    "    \n",
    "    \n",
    "    \n",
    "- [ ] Go bother some people in the NGU discord how to make a website.\n",
    "- [ ] Go bother even more people to test my simulation\n",
    "- [ ] ...\n",
    "- [ ] Profit?!"
   ]
  },
  {
   "cell_type": "code",
   "execution_count": 114,
   "id": "another-complaint",
   "metadata": {
    "hideCode": false,
    "hidePrompt": false
   },
   "outputs": [
    {
     "name": "stdout",
     "output_type": "stream",
     "text": [
      "The line_profiler extension is already loaded. To reload it, use:\n",
      "  %reload_ext line_profiler\n"
     ]
    }
   ],
   "source": [
    "import pandas as pd\n",
    "\n",
    "from math import pow as mpow\n",
    "\n",
    "from random import random\n",
    "from copy import deepcopy\n",
    "from time import time\n",
    "import numpy as np\n",
    "import matplotlib.pyplot as plt \n",
    "import matplotlib.dates as mdates\n",
    "import scipy.stats as st\n",
    "\n",
    "from datetime import datetime, timedelta\n",
    "\n",
    "from tqdm import tqdm\n",
    "\n",
    "import warnings\n",
    "warnings.filterwarnings(\"ignore\")\n",
    "\n",
    "# import some files\n",
    "import suffix_converter\n",
    "zone_info = pd.read_csv('zoneinfo.csv')\n",
    "dc_info = pd.read_csv('droprate.csv')\n",
    "%load_ext line_profiler"
   ]
  },
  {
   "cell_type": "code",
   "execution_count": 115,
   "id": "wanted-simpson",
   "metadata": {
    "hideCode": false,
    "hidePrompt": false
   },
   "outputs": [
    {
     "data": {
      "text/html": [
       "<script>\n",
       "code_show=true; \n",
       "function code_toggle() {\n",
       " if (code_show){\n",
       " $('.cm-comment:contains(@hidden)').closest('div.input').hide();\n",
       " } else {\n",
       " $('.cm-comment:contains(@hidden)').closest('div.input').show();\n",
       " }\n",
       " code_show = !code_show\n",
       "} \n",
       "$( document ).ready(code_toggle);\n",
       "</script>\n",
       "We hide certain code cells.\n",
       "If you want to read my mess of a code: <a href=\"javascript:code_toggle()\">here</a>."
      ],
      "text/plain": [
       "<IPython.core.display.HTML object>"
      ]
     },
     "execution_count": 115,
     "metadata": {},
     "output_type": "execute_result"
    }
   ],
   "source": [
    "# @hidden\n",
    "# modules for interface\n",
    "from IPython.display import HTML, clear_output, display\n",
    "from IPython.html import widgets\n",
    "from IPython.display import display\n",
    "from ipywidgets import Checkbox, Button, Layout\n",
    "from tkinter import Tk, filedialog\n",
    "import json\n",
    "\n",
    "HTML('''<script>\n",
    "code_show=true; \n",
    "function code_toggle() {\n",
    " if (code_show){\n",
    " $('.cm-comment:contains(@hidden)').closest('div.input').hide();\n",
    " } else {\n",
    " $('.cm-comment:contains(@hidden)').closest('div.input').show();\n",
    " }\n",
    " code_show = !code_show\n",
    "} \n",
    "$( document ).ready(code_toggle);\n",
    "</script>\n",
    "We hide certain code cells.\n",
    "If you want to read my mess of a code: <a href=\"javascript:code_toggle()\">here</a>.''')"
   ]
  },
  {
   "cell_type": "code",
   "execution_count": 116,
   "id": "sized-classification",
   "metadata": {
    "hideCode": false,
    "hidePrompt": false
   },
   "outputs": [],
   "source": [
    "# @hidden\n",
    "def select_files(b):\n",
    "    root = Tk()\n",
    "    root.withdraw()                                        # Hide the main window.\n",
    "    root.call('wm', 'attributes', '.', '-topmost', True)   # Raise the root to the top of all windows.\n",
    "    b.files = filedialog.askopenfilename(filetypes=((\"Json File\", \"*.json\"),), multiple=False)    # List of selected files will be set button's file attribute.\n",
    "    print(\"File loaded\")\n",
    "\n",
    "    \n",
    "layout = widgets.Layout(width='auto', height='40px')\n",
    "style = {'description_width': '150px'}\n",
    "\n",
    "\n",
    "style={'description_width': 'initial'}\n",
    "fileselect = Button(description=\"Select NGU JSON file\",layout=layout,style=style)\n",
    "fileselect.on_click(select_files)\n",
    "\n",
    "suffix_check = Checkbox(False, description='Suffix mode',layout=layout,style=style)\n",
    "\n",
    "respawn_get = widgets.BoundedFloatText(value=2,min=0.33, max=4,description='Respawn rate:',style=style)\n",
    "\n",
    "suffix = widgets.Dropdown(options=suffix_converter.translation_dict,continuous_update=True)\n",
    "\n",
    "zone_get = widgets.Dropdown(options=zone_info.set_index(\"name\")['zone'].to_dict(),description='Zone you are grinding',style=style)\n",
    "\n",
    "suffix_stat = widgets.FloatText(value=11.132,description='Number before Suffix',style=style,layout=layout)\n",
    "sci_stat = widgets.FloatText(value=1.113e+007,description='Scientific notation',style=style,layout=layout)\n",
    "\n",
    "hits_to_kill_get = widgets.FloatText(value=1,description='Hits to kill boss. [scripting = 0]',style=style)"
   ]
  },
  {
   "cell_type": "markdown",
   "id": "cardiac-adjustment",
   "metadata": {
    "hideCode": false,
    "hidePrompt": false
   },
   "source": [
    "# USER SETUP"
   ]
  },
  {
   "cell_type": "markdown",
   "id": "artistic-herald",
   "metadata": {},
   "source": [
    "### General info"
   ]
  },
  {
   "cell_type": "code",
   "execution_count": 118,
   "id": "ethical-closing",
   "metadata": {
    "hideCode": false,
    "hidePrompt": false
   },
   "outputs": [
    {
     "data": {
      "application/vnd.jupyter.widget-view+json": {
       "model_id": "f8988829265c4065af6a8c643de6d8ca",
       "version_major": 2,
       "version_minor": 0
      },
      "text/plain": [
       "Checkbox(value=False, description='Suffix mode', layout=Layout(height='40px', width='auto'), style=Description…"
      ]
     },
     "metadata": {},
     "output_type": "display_data"
    },
    {
     "data": {
      "application/vnd.jupyter.widget-view+json": {
       "model_id": "b8887caf09a64d31be70346a5bc52f32",
       "version_major": 2,
       "version_minor": 0
      },
      "text/plain": [
       "FloatText(value=1.0, description='Hits to kill boss. [scripting = 0]', style=DescriptionStyle(description_widt…"
      ]
     },
     "metadata": {},
     "output_type": "display_data"
    },
    {
     "data": {
      "application/vnd.jupyter.widget-view+json": {
       "model_id": "91671f7772b44e9996b7456336562cbe",
       "version_major": 2,
       "version_minor": 0
      },
      "text/plain": [
       "BoundedFloatText(value=2.0, description='Respawn rate:', max=4.0, min=0.33, style=DescriptionStyle(description…"
      ]
     },
     "metadata": {},
     "output_type": "display_data"
    },
    {
     "data": {
      "application/vnd.jupyter.widget-view+json": {
       "model_id": "c6c3562673aa4879b8694bc7cfba7d4c",
       "version_major": 2,
       "version_minor": 0
      },
      "text/plain": [
       "Dropdown(description='Zone you are grinding', index=14, options={'safezone': 1, 'Tutorial': 2, 'Sewers': 3, 'F…"
      ]
     },
     "metadata": {},
     "output_type": "display_data"
    },
    {
     "data": {
      "application/vnd.jupyter.widget-view+json": {
       "model_id": "76b28295b74b49a6be1272cc99244170",
       "version_major": 2,
       "version_minor": 0
      },
      "text/plain": [
       "Button(description='Select NGU JSON file', layout=Layout(height='40px', width='auto'), style=ButtonStyle())"
      ]
     },
     "metadata": {},
     "output_type": "display_data"
    }
   ],
   "source": [
    "# @hidden\n",
    "display(suffix_check)\n",
    "display(hits_to_kill_get)\n",
    "display(respawn_get)\n",
    "display(zone_get)\n",
    "display(fileselect)"
   ]
  },
  {
   "cell_type": "markdown",
   "id": "cosmetic-transfer",
   "metadata": {},
   "source": [
    "### Calculate DC"
   ]
  },
  {
   "cell_type": "code",
   "execution_count": 119,
   "id": "decent-batch",
   "metadata": {
    "scrolled": false
   },
   "outputs": [
    {
     "name": "stdout",
     "output_type": "stream",
     "text": [
      "Example input: 1.113e+007\n"
     ]
    },
    {
     "data": {
      "application/vnd.jupyter.widget-view+json": {
       "model_id": "05d19181e5f648b5a12dba37b136283c",
       "version_major": 2,
       "version_minor": 0
      },
      "text/plain": [
       "FloatText(value=11130000.0, description='Scientific notation', layout=Layout(height='40px', width='auto'), sty…"
      ]
     },
     "metadata": {},
     "output_type": "display_data"
    },
    {
     "name": "stdout",
     "output_type": "stream",
     "text": [
      "DC: 1.113E+07\n"
     ]
    }
   ],
   "source": [
    "# @hidden\n",
    "if suffix_check.value:\n",
    "    print(\"Example input: 11.139\")\n",
    "    display(suffix_stat)\n",
    "    print(\"Example input: Million%\")\n",
    "    display(suffix)\n",
    "    dropchance = suffix_stat.value * pow(10,suffix.value * 3)\n",
    "    print(\"DC:\" ,suffix_stat.value, list(suffix.options)[suffix.value-2])\n",
    "    \n",
    "else:\n",
    "    print(\"Example input: 1.113e+007\")\n",
    "    display(sci_stat)\n",
    "    def format_e(n):\n",
    "        a = '%E' % n\n",
    "        return a.split('E')[0].rstrip('0').rstrip('.') + 'E' + a.split('E')[1]\n",
    "    print(\"DC:\" , format_e(sci_stat.value))\n",
    "    dropchance = sci_stat.value"
   ]
  },
  {
   "cell_type": "code",
   "execution_count": 120,
   "id": "english-dating",
   "metadata": {
    "hideCode": false,
    "hidePrompt": false
   },
   "outputs": [],
   "source": [
    "# @hidden\n",
    "hits_to_kill = hits_to_kill_get.value\n",
    "zone = zone_get.value\n",
    "bosschance = float(zone_info[zone_info['zone'] == zone]['bosschance'].item())\n",
    "respawn = respawn_get.value"
   ]
  },
  {
   "cell_type": "markdown",
   "id": "knowing-liberty",
   "metadata": {
    "hideCode": false,
    "hidePrompt": false
   },
   "source": [
    "# item setup"
   ]
  },
  {
   "cell_type": "code",
   "execution_count": 121,
   "id": "recreational-ferry",
   "metadata": {
    "hideCode": false,
    "hidePrompt": false,
    "scrolled": true
   },
   "outputs": [
    {
     "name": "stdout",
     "output_type": "stream",
     "text": [
      "No file loaded\n"
     ]
    }
   ],
   "source": [
    "try:\n",
    "    current_dict = {}\n",
    "\n",
    "    def add_to_dict(item_id,level):\n",
    "        if item_id in current_dict:\n",
    "            curr_level = current_dict[item_id]\n",
    "            if curr_level < level:\n",
    "                current_dict[item_id] = level\n",
    "        else:\n",
    "            current_dict[item_id] = level\n",
    "\n",
    "    with open(fileselect.files) as f:\n",
    "        ngu_data = json.load(f)\n",
    "        current_gear = ngu_data['inventory']\n",
    "        for item in current_gear:\n",
    "            item = str(item)\n",
    "            if \"id\" in str(current_gear[item]) and \"level\" in str(current_gear[item]):\n",
    "                if type(current_gear[item]) == list:\n",
    "                    for subitem in range(len(current_gear[item])):\n",
    "                        add_to_dict(current_gear[item][subitem][\"id\"],\n",
    "                                    current_gear[item][subitem][\"level\"])\n",
    "                else:\n",
    "                    add_to_dict(current_gear[item][\"id\"],\n",
    "                                current_gear[item][\"level\"])\n",
    "    extra_level_dic = {\n",
    "        'gaudy' : ngu_data[\"inventory\"][\"itemList\"][\"gaudyComplete\"],\n",
    "        'loot_goblin' : ngu_data[\"adventure\"][\"itopod\"][\"perkLevel\"][25],\n",
    "        'fib_144' : True if ngu_data[\"adventure\"][\"itopod\"][\"perkLevel\"][94] >= 144 else False}\n",
    "\n",
    "    del ngu_data, current_gear\n",
    "    extra_level_dic\n",
    "except:\n",
    "    print(\"No file loaded\")"
   ]
  },
  {
   "cell_type": "markdown",
   "id": "diagnostic-clock",
   "metadata": {
    "hideCode": false,
    "hidePrompt": false
   },
   "source": [
    "# SETUP"
   ]
  },
  {
   "cell_type": "code",
   "execution_count": 122,
   "id": "solved-parish",
   "metadata": {
    "hideCode": false,
    "hidePrompt": false
   },
   "outputs": [
    {
     "data": {
      "text/html": [
       "<div>\n",
       "<style scoped>\n",
       "    .dataframe tbody tr th:only-of-type {\n",
       "        vertical-align: middle;\n",
       "    }\n",
       "\n",
       "    .dataframe tbody tr th {\n",
       "        vertical-align: top;\n",
       "    }\n",
       "\n",
       "    .dataframe thead th {\n",
       "        text-align: right;\n",
       "    }\n",
       "</style>\n",
       "<table border=\"1\" class=\"dataframe\">\n",
       "  <thead>\n",
       "    <tr style=\"text-align: right;\">\n",
       "      <th></th>\n",
       "      <th>itemname</th>\n",
       "      <th>itemid</th>\n",
       "      <th>zone</th>\n",
       "      <th>droplevel</th>\n",
       "      <th>normal_drop</th>\n",
       "      <th>normal_max</th>\n",
       "      <th>normal_times</th>\n",
       "      <th>boss_drop</th>\n",
       "      <th>boss_max</th>\n",
       "      <th>boss_times</th>\n",
       "      <th>set</th>\n",
       "      <th>restriction</th>\n",
       "    </tr>\n",
       "  </thead>\n",
       "  <tbody>\n",
       "    <tr>\n",
       "      <th>0</th>\n",
       "      <td>A stick</td>\n",
       "      <td>75.0</td>\n",
       "      <td>2.0</td>\n",
       "      <td>10.0</td>\n",
       "      <td>1.0</td>\n",
       "      <td>1.0</td>\n",
       "      <td>0.25</td>\n",
       "      <td>0.0</td>\n",
       "      <td>0.0</td>\n",
       "      <td>0.0</td>\n",
       "      <td>0.0</td>\n",
       "      <td>NaN</td>\n",
       "    </tr>\n",
       "    <tr>\n",
       "      <th>1</th>\n",
       "      <td>cloth hat</td>\n",
       "      <td>62.0</td>\n",
       "      <td>2.0</td>\n",
       "      <td>10.0</td>\n",
       "      <td>0.0</td>\n",
       "      <td>0.0</td>\n",
       "      <td>0.00</td>\n",
       "      <td>1.0</td>\n",
       "      <td>1.0</td>\n",
       "      <td>1.0</td>\n",
       "      <td>1.0</td>\n",
       "      <td>NaN</td>\n",
       "    </tr>\n",
       "    <tr>\n",
       "      <th>2</th>\n",
       "      <td>cloth shirt</td>\n",
       "      <td>63.0</td>\n",
       "      <td>2.0</td>\n",
       "      <td>10.0</td>\n",
       "      <td>0.0</td>\n",
       "      <td>0.0</td>\n",
       "      <td>0.00</td>\n",
       "      <td>1.0</td>\n",
       "      <td>1.0</td>\n",
       "      <td>1.0</td>\n",
       "      <td>1.0</td>\n",
       "      <td>NaN</td>\n",
       "    </tr>\n",
       "    <tr>\n",
       "      <th>3</th>\n",
       "      <td>cloth leggings</td>\n",
       "      <td>64.0</td>\n",
       "      <td>2.0</td>\n",
       "      <td>10.0</td>\n",
       "      <td>0.0</td>\n",
       "      <td>0.0</td>\n",
       "      <td>0.00</td>\n",
       "      <td>1.0</td>\n",
       "      <td>1.0</td>\n",
       "      <td>1.0</td>\n",
       "      <td>1.0</td>\n",
       "      <td>NaN</td>\n",
       "    </tr>\n",
       "    <tr>\n",
       "      <th>4</th>\n",
       "      <td>cloth boots</td>\n",
       "      <td>65.0</td>\n",
       "      <td>2.0</td>\n",
       "      <td>10.0</td>\n",
       "      <td>0.0</td>\n",
       "      <td>0.0</td>\n",
       "      <td>0.00</td>\n",
       "      <td>1.0</td>\n",
       "      <td>1.0</td>\n",
       "      <td>1.0</td>\n",
       "      <td>1.0</td>\n",
       "      <td>NaN</td>\n",
       "    </tr>\n",
       "    <tr>\n",
       "      <th>...</th>\n",
       "      <td>...</td>\n",
       "      <td>...</td>\n",
       "      <td>...</td>\n",
       "      <td>...</td>\n",
       "      <td>...</td>\n",
       "      <td>...</td>\n",
       "      <td>...</td>\n",
       "      <td>...</td>\n",
       "      <td>...</td>\n",
       "      <td>...</td>\n",
       "      <td>...</td>\n",
       "      <td>...</td>\n",
       "    </tr>\n",
       "    <tr>\n",
       "      <th>257</th>\n",
       "      <td>NaN</td>\n",
       "      <td>NaN</td>\n",
       "      <td>NaN</td>\n",
       "      <td>NaN</td>\n",
       "      <td>NaN</td>\n",
       "      <td>NaN</td>\n",
       "      <td>NaN</td>\n",
       "      <td>NaN</td>\n",
       "      <td>NaN</td>\n",
       "      <td>NaN</td>\n",
       "      <td>NaN</td>\n",
       "      <td>NaN</td>\n",
       "    </tr>\n",
       "    <tr>\n",
       "      <th>258</th>\n",
       "      <td>NaN</td>\n",
       "      <td>NaN</td>\n",
       "      <td>NaN</td>\n",
       "      <td>NaN</td>\n",
       "      <td>NaN</td>\n",
       "      <td>NaN</td>\n",
       "      <td>NaN</td>\n",
       "      <td>NaN</td>\n",
       "      <td>NaN</td>\n",
       "      <td>NaN</td>\n",
       "      <td>NaN</td>\n",
       "      <td>NaN</td>\n",
       "    </tr>\n",
       "    <tr>\n",
       "      <th>259</th>\n",
       "      <td>NaN</td>\n",
       "      <td>NaN</td>\n",
       "      <td>NaN</td>\n",
       "      <td>NaN</td>\n",
       "      <td>NaN</td>\n",
       "      <td>NaN</td>\n",
       "      <td>NaN</td>\n",
       "      <td>NaN</td>\n",
       "      <td>NaN</td>\n",
       "      <td>NaN</td>\n",
       "      <td>NaN</td>\n",
       "      <td>NaN</td>\n",
       "    </tr>\n",
       "    <tr>\n",
       "      <th>260</th>\n",
       "      <td>NaN</td>\n",
       "      <td>NaN</td>\n",
       "      <td>NaN</td>\n",
       "      <td>NaN</td>\n",
       "      <td>NaN</td>\n",
       "      <td>NaN</td>\n",
       "      <td>NaN</td>\n",
       "      <td>NaN</td>\n",
       "      <td>NaN</td>\n",
       "      <td>NaN</td>\n",
       "      <td>NaN</td>\n",
       "      <td>NaN</td>\n",
       "    </tr>\n",
       "    <tr>\n",
       "      <th>261</th>\n",
       "      <td>NaN</td>\n",
       "      <td>NaN</td>\n",
       "      <td>NaN</td>\n",
       "      <td>NaN</td>\n",
       "      <td>NaN</td>\n",
       "      <td>NaN</td>\n",
       "      <td>NaN</td>\n",
       "      <td>NaN</td>\n",
       "      <td>NaN</td>\n",
       "      <td>NaN</td>\n",
       "      <td>NaN</td>\n",
       "      <td>NaN</td>\n",
       "    </tr>\n",
       "  </tbody>\n",
       "</table>\n",
       "<p>262 rows × 12 columns</p>\n",
       "</div>"
      ],
      "text/plain": [
       "           itemname  itemid  zone  droplevel  normal_drop  normal_max  \\\n",
       "0           A stick    75.0   2.0       10.0          1.0         1.0   \n",
       "1         cloth hat    62.0   2.0       10.0          0.0         0.0   \n",
       "2       cloth shirt    63.0   2.0       10.0          0.0         0.0   \n",
       "3    cloth leggings    64.0   2.0       10.0          0.0         0.0   \n",
       "4       cloth boots    65.0   2.0       10.0          0.0         0.0   \n",
       "..              ...     ...   ...        ...          ...         ...   \n",
       "257             NaN     NaN   NaN        NaN          NaN         NaN   \n",
       "258             NaN     NaN   NaN        NaN          NaN         NaN   \n",
       "259             NaN     NaN   NaN        NaN          NaN         NaN   \n",
       "260             NaN     NaN   NaN        NaN          NaN         NaN   \n",
       "261             NaN     NaN   NaN        NaN          NaN         NaN   \n",
       "\n",
       "     normal_times  boss_drop  boss_max  boss_times  set restriction  \n",
       "0            0.25        0.0       0.0         0.0  0.0         NaN  \n",
       "1            0.00        1.0       1.0         1.0  1.0         NaN  \n",
       "2            0.00        1.0       1.0         1.0  1.0         NaN  \n",
       "3            0.00        1.0       1.0         1.0  1.0         NaN  \n",
       "4            0.00        1.0       1.0         1.0  1.0         NaN  \n",
       "..            ...        ...       ...         ...  ...         ...  \n",
       "257           NaN        NaN       NaN         NaN  NaN         NaN  \n",
       "258           NaN        NaN       NaN         NaN  NaN         NaN  \n",
       "259           NaN        NaN       NaN         NaN  NaN         NaN  \n",
       "260           NaN        NaN       NaN         NaN  NaN         NaN  \n",
       "261           NaN        NaN       NaN         NaN  NaN         NaN  \n",
       "\n",
       "[262 rows x 12 columns]"
      ]
     },
     "execution_count": 122,
     "metadata": {},
     "output_type": "execute_result"
    }
   ],
   "source": [
    "dc_info"
   ]
  },
  {
   "cell_type": "code",
   "execution_count": 123,
   "id": "blind-clothing",
   "metadata": {
    "hideCode": false,
    "hidePrompt": false
   },
   "outputs": [
    {
     "data": {
      "text/html": [
       "<div>\n",
       "<style scoped>\n",
       "    .dataframe tbody tr th:only-of-type {\n",
       "        vertical-align: middle;\n",
       "    }\n",
       "\n",
       "    .dataframe tbody tr th {\n",
       "        vertical-align: top;\n",
       "    }\n",
       "\n",
       "    .dataframe thead th {\n",
       "        text-align: right;\n",
       "    }\n",
       "</style>\n",
       "<table border=\"1\" class=\"dataframe\">\n",
       "  <thead>\n",
       "    <tr style=\"text-align: right;\">\n",
       "      <th></th>\n",
       "      <th>itemname</th>\n",
       "      <th>itemid</th>\n",
       "      <th>zone</th>\n",
       "      <th>droplevel</th>\n",
       "      <th>normal_drop</th>\n",
       "      <th>normal_max</th>\n",
       "      <th>normal_times</th>\n",
       "      <th>boss_drop</th>\n",
       "      <th>boss_max</th>\n",
       "      <th>boss_times</th>\n",
       "      <th>set</th>\n",
       "      <th>restriction</th>\n",
       "    </tr>\n",
       "  </thead>\n",
       "  <tbody>\n",
       "    <tr>\n",
       "      <th>0</th>\n",
       "      <td>A stick</td>\n",
       "      <td>75.0</td>\n",
       "      <td>2.0</td>\n",
       "      <td>10.0</td>\n",
       "      <td>1.0</td>\n",
       "      <td>1.0</td>\n",
       "      <td>0.25</td>\n",
       "      <td>0.0</td>\n",
       "      <td>0.0</td>\n",
       "      <td>0.0</td>\n",
       "      <td>0.0</td>\n",
       "      <td>NaN</td>\n",
       "    </tr>\n",
       "    <tr>\n",
       "      <th>1</th>\n",
       "      <td>cloth hat</td>\n",
       "      <td>62.0</td>\n",
       "      <td>2.0</td>\n",
       "      <td>10.0</td>\n",
       "      <td>0.0</td>\n",
       "      <td>0.0</td>\n",
       "      <td>0.00</td>\n",
       "      <td>1.0</td>\n",
       "      <td>1.0</td>\n",
       "      <td>1.0</td>\n",
       "      <td>1.0</td>\n",
       "      <td>NaN</td>\n",
       "    </tr>\n",
       "    <tr>\n",
       "      <th>2</th>\n",
       "      <td>cloth shirt</td>\n",
       "      <td>63.0</td>\n",
       "      <td>2.0</td>\n",
       "      <td>10.0</td>\n",
       "      <td>0.0</td>\n",
       "      <td>0.0</td>\n",
       "      <td>0.00</td>\n",
       "      <td>1.0</td>\n",
       "      <td>1.0</td>\n",
       "      <td>1.0</td>\n",
       "      <td>1.0</td>\n",
       "      <td>NaN</td>\n",
       "    </tr>\n",
       "    <tr>\n",
       "      <th>3</th>\n",
       "      <td>cloth leggings</td>\n",
       "      <td>64.0</td>\n",
       "      <td>2.0</td>\n",
       "      <td>10.0</td>\n",
       "      <td>0.0</td>\n",
       "      <td>0.0</td>\n",
       "      <td>0.00</td>\n",
       "      <td>1.0</td>\n",
       "      <td>1.0</td>\n",
       "      <td>1.0</td>\n",
       "      <td>1.0</td>\n",
       "      <td>NaN</td>\n",
       "    </tr>\n",
       "    <tr>\n",
       "      <th>4</th>\n",
       "      <td>cloth boots</td>\n",
       "      <td>65.0</td>\n",
       "      <td>2.0</td>\n",
       "      <td>10.0</td>\n",
       "      <td>0.0</td>\n",
       "      <td>0.0</td>\n",
       "      <td>0.00</td>\n",
       "      <td>1.0</td>\n",
       "      <td>1.0</td>\n",
       "      <td>1.0</td>\n",
       "      <td>1.0</td>\n",
       "      <td>NaN</td>\n",
       "    </tr>\n",
       "    <tr>\n",
       "      <th>...</th>\n",
       "      <td>...</td>\n",
       "      <td>...</td>\n",
       "      <td>...</td>\n",
       "      <td>...</td>\n",
       "      <td>...</td>\n",
       "      <td>...</td>\n",
       "      <td>...</td>\n",
       "      <td>...</td>\n",
       "      <td>...</td>\n",
       "      <td>...</td>\n",
       "      <td>...</td>\n",
       "      <td>...</td>\n",
       "    </tr>\n",
       "    <tr>\n",
       "      <th>239</th>\n",
       "      <td>NaN</td>\n",
       "      <td>362.0</td>\n",
       "      <td>35.0</td>\n",
       "      <td>NaN</td>\n",
       "      <td>NaN</td>\n",
       "      <td>NaN</td>\n",
       "      <td>NaN</td>\n",
       "      <td>NaN</td>\n",
       "      <td>NaN</td>\n",
       "      <td>NaN</td>\n",
       "      <td>NaN</td>\n",
       "      <td>NaN</td>\n",
       "    </tr>\n",
       "    <tr>\n",
       "      <th>240</th>\n",
       "      <td>NaN</td>\n",
       "      <td>364.0</td>\n",
       "      <td>35.0</td>\n",
       "      <td>NaN</td>\n",
       "      <td>NaN</td>\n",
       "      <td>NaN</td>\n",
       "      <td>NaN</td>\n",
       "      <td>NaN</td>\n",
       "      <td>NaN</td>\n",
       "      <td>NaN</td>\n",
       "      <td>NaN</td>\n",
       "      <td>NaN</td>\n",
       "    </tr>\n",
       "    <tr>\n",
       "      <th>241</th>\n",
       "      <td>NaN</td>\n",
       "      <td>365.0</td>\n",
       "      <td>35.0</td>\n",
       "      <td>NaN</td>\n",
       "      <td>NaN</td>\n",
       "      <td>NaN</td>\n",
       "      <td>NaN</td>\n",
       "      <td>NaN</td>\n",
       "      <td>NaN</td>\n",
       "      <td>NaN</td>\n",
       "      <td>NaN</td>\n",
       "      <td>NaN</td>\n",
       "    </tr>\n",
       "    <tr>\n",
       "      <th>242</th>\n",
       "      <td>NaN</td>\n",
       "      <td>NaN</td>\n",
       "      <td>35.0</td>\n",
       "      <td>NaN</td>\n",
       "      <td>NaN</td>\n",
       "      <td>NaN</td>\n",
       "      <td>NaN</td>\n",
       "      <td>NaN</td>\n",
       "      <td>NaN</td>\n",
       "      <td>NaN</td>\n",
       "      <td>NaN</td>\n",
       "      <td>NaN</td>\n",
       "    </tr>\n",
       "    <tr>\n",
       "      <th>243</th>\n",
       "      <td>NaN</td>\n",
       "      <td>NaN</td>\n",
       "      <td>35.0</td>\n",
       "      <td>NaN</td>\n",
       "      <td>NaN</td>\n",
       "      <td>NaN</td>\n",
       "      <td>NaN</td>\n",
       "      <td>NaN</td>\n",
       "      <td>NaN</td>\n",
       "      <td>NaN</td>\n",
       "      <td>NaN</td>\n",
       "      <td>NaN</td>\n",
       "    </tr>\n",
       "  </tbody>\n",
       "</table>\n",
       "<p>221 rows × 12 columns</p>\n",
       "</div>"
      ],
      "text/plain": [
       "           itemname  itemid  zone  droplevel  normal_drop  normal_max  \\\n",
       "0           A stick    75.0   2.0       10.0          1.0         1.0   \n",
       "1         cloth hat    62.0   2.0       10.0          0.0         0.0   \n",
       "2       cloth shirt    63.0   2.0       10.0          0.0         0.0   \n",
       "3    cloth leggings    64.0   2.0       10.0          0.0         0.0   \n",
       "4       cloth boots    65.0   2.0       10.0          0.0         0.0   \n",
       "..              ...     ...   ...        ...          ...         ...   \n",
       "239             NaN   362.0  35.0        NaN          NaN         NaN   \n",
       "240             NaN   364.0  35.0        NaN          NaN         NaN   \n",
       "241             NaN   365.0  35.0        NaN          NaN         NaN   \n",
       "242             NaN     NaN  35.0        NaN          NaN         NaN   \n",
       "243             NaN     NaN  35.0        NaN          NaN         NaN   \n",
       "\n",
       "     normal_times  boss_drop  boss_max  boss_times  set restriction  \n",
       "0            0.25        0.0       0.0         0.0  0.0         NaN  \n",
       "1            0.00        1.0       1.0         1.0  1.0         NaN  \n",
       "2            0.00        1.0       1.0         1.0  1.0         NaN  \n",
       "3            0.00        1.0       1.0         1.0  1.0         NaN  \n",
       "4            0.00        1.0       1.0         1.0  1.0         NaN  \n",
       "..            ...        ...       ...         ...  ...         ...  \n",
       "239           NaN        NaN       NaN         NaN  NaN         NaN  \n",
       "240           NaN        NaN       NaN         NaN  NaN         NaN  \n",
       "241           NaN        NaN       NaN         NaN  NaN         NaN  \n",
       "242           NaN        NaN       NaN         NaN  NaN         NaN  \n",
       "243           NaN        NaN       NaN         NaN  NaN         NaN  \n",
       "\n",
       "[221 rows x 12 columns]"
      ]
     },
     "execution_count": 123,
     "metadata": {},
     "output_type": "execute_result"
    }
   ],
   "source": [
    "dc_info.dropna(how=\"all\",inplace=True)\n",
    "dc_info"
   ]
  },
  {
   "cell_type": "code",
   "execution_count": 124,
   "id": "normal-option",
   "metadata": {
    "hideCode": false,
    "hidePrompt": false
   },
   "outputs": [
    {
     "name": "stdout",
     "output_type": "stream",
     "text": [
      "15\n"
     ]
    },
    {
     "data": {
      "text/html": [
       "<div>\n",
       "<style scoped>\n",
       "    .dataframe tbody tr th:only-of-type {\n",
       "        vertical-align: middle;\n",
       "    }\n",
       "\n",
       "    .dataframe tbody tr th {\n",
       "        vertical-align: top;\n",
       "    }\n",
       "\n",
       "    .dataframe thead th {\n",
       "        text-align: right;\n",
       "    }\n",
       "</style>\n",
       "<table border=\"1\" class=\"dataframe\">\n",
       "  <thead>\n",
       "    <tr style=\"text-align: right;\">\n",
       "      <th></th>\n",
       "      <th>itemname</th>\n",
       "      <th>itemid</th>\n",
       "      <th>zone</th>\n",
       "      <th>droplevel</th>\n",
       "      <th>normal_drop</th>\n",
       "      <th>normal_max</th>\n",
       "      <th>normal_times</th>\n",
       "      <th>boss_drop</th>\n",
       "      <th>boss_max</th>\n",
       "      <th>boss_times</th>\n",
       "      <th>set</th>\n",
       "      <th>restriction</th>\n",
       "    </tr>\n",
       "  </thead>\n",
       "  <tbody>\n",
       "    <tr>\n",
       "      <th>90</th>\n",
       "      <td>Mega Helmet</td>\n",
       "      <td>130.0</td>\n",
       "      <td>15.0</td>\n",
       "      <td>0.0</td>\n",
       "      <td>0.0</td>\n",
       "      <td>0.0</td>\n",
       "      <td>0.000</td>\n",
       "      <td>1.0</td>\n",
       "      <td>1.0</td>\n",
       "      <td>0.080</td>\n",
       "      <td>1.0</td>\n",
       "      <td>NaN</td>\n",
       "    </tr>\n",
       "    <tr>\n",
       "      <th>91</th>\n",
       "      <td>Mega Chest</td>\n",
       "      <td>131.0</td>\n",
       "      <td>15.0</td>\n",
       "      <td>0.0</td>\n",
       "      <td>0.0</td>\n",
       "      <td>0.0</td>\n",
       "      <td>0.000</td>\n",
       "      <td>1.0</td>\n",
       "      <td>1.0</td>\n",
       "      <td>0.080</td>\n",
       "      <td>1.0</td>\n",
       "      <td>NaN</td>\n",
       "    </tr>\n",
       "    <tr>\n",
       "      <th>92</th>\n",
       "      <td>Mega Blue Jeans</td>\n",
       "      <td>132.0</td>\n",
       "      <td>15.0</td>\n",
       "      <td>0.0</td>\n",
       "      <td>0.0</td>\n",
       "      <td>0.0</td>\n",
       "      <td>0.000</td>\n",
       "      <td>1.0</td>\n",
       "      <td>1.0</td>\n",
       "      <td>0.080</td>\n",
       "      <td>1.0</td>\n",
       "      <td>NaN</td>\n",
       "    </tr>\n",
       "    <tr>\n",
       "      <th>93</th>\n",
       "      <td>Mega Boots</td>\n",
       "      <td>133.0</td>\n",
       "      <td>15.0</td>\n",
       "      <td>0.0</td>\n",
       "      <td>0.0</td>\n",
       "      <td>0.0</td>\n",
       "      <td>0.000</td>\n",
       "      <td>1.0</td>\n",
       "      <td>1.0</td>\n",
       "      <td>0.080</td>\n",
       "      <td>1.0</td>\n",
       "      <td>NaN</td>\n",
       "    </tr>\n",
       "    <tr>\n",
       "      <th>94</th>\n",
       "      <td>Beam Laser Sword</td>\n",
       "      <td>134.0</td>\n",
       "      <td>15.0</td>\n",
       "      <td>0.0</td>\n",
       "      <td>0.0</td>\n",
       "      <td>0.0</td>\n",
       "      <td>0.000</td>\n",
       "      <td>1.0</td>\n",
       "      <td>1.0</td>\n",
       "      <td>0.080</td>\n",
       "      <td>1.0</td>\n",
       "      <td>NaN</td>\n",
       "    </tr>\n",
       "    <tr>\n",
       "      <th>95</th>\n",
       "      <td>Ascended Forest Pendant</td>\n",
       "      <td>76.0</td>\n",
       "      <td>15.0</td>\n",
       "      <td>0.0</td>\n",
       "      <td>0.0</td>\n",
       "      <td>0.0</td>\n",
       "      <td>0.000</td>\n",
       "      <td>1.0</td>\n",
       "      <td>1.0</td>\n",
       "      <td>0.010</td>\n",
       "      <td>0.0</td>\n",
       "      <td>NaN</td>\n",
       "    </tr>\n",
       "    <tr>\n",
       "      <th>96</th>\n",
       "      <td>The F Tank</td>\n",
       "      <td>440.0</td>\n",
       "      <td>15.0</td>\n",
       "      <td>1.0</td>\n",
       "      <td>1.0</td>\n",
       "      <td>1.0</td>\n",
       "      <td>0.002</td>\n",
       "      <td>1.0</td>\n",
       "      <td>1.0</td>\n",
       "      <td>0.002</td>\n",
       "      <td>0.0</td>\n",
       "      <td>NaN</td>\n",
       "    </tr>\n",
       "  </tbody>\n",
       "</table>\n",
       "</div>"
      ],
      "text/plain": [
       "                   itemname  itemid  zone  droplevel  normal_drop  normal_max  \\\n",
       "90              Mega Helmet   130.0  15.0        0.0          0.0         0.0   \n",
       "91               Mega Chest   131.0  15.0        0.0          0.0         0.0   \n",
       "92          Mega Blue Jeans   132.0  15.0        0.0          0.0         0.0   \n",
       "93               Mega Boots   133.0  15.0        0.0          0.0         0.0   \n",
       "94         Beam Laser Sword   134.0  15.0        0.0          0.0         0.0   \n",
       "95  Ascended Forest Pendant    76.0  15.0        0.0          0.0         0.0   \n",
       "96               The F Tank   440.0  15.0        1.0          1.0         1.0   \n",
       "\n",
       "    normal_times  boss_drop  boss_max  boss_times  set restriction  \n",
       "90         0.000        1.0       1.0       0.080  1.0         NaN  \n",
       "91         0.000        1.0       1.0       0.080  1.0         NaN  \n",
       "92         0.000        1.0       1.0       0.080  1.0         NaN  \n",
       "93         0.000        1.0       1.0       0.080  1.0         NaN  \n",
       "94         0.000        1.0       1.0       0.080  1.0         NaN  \n",
       "95         0.000        1.0       1.0       0.010  0.0         NaN  \n",
       "96         0.002        1.0       1.0       0.002  0.0         NaN  "
      ]
     },
     "execution_count": 124,
     "metadata": {},
     "output_type": "execute_result"
    }
   ],
   "source": [
    "dc_info = dc_info[dc_info['zone'] == zone]\n",
    "dc_info"
   ]
  },
  {
   "cell_type": "code",
   "execution_count": 125,
   "id": "russian-moscow",
   "metadata": {
    "hideCode": false,
    "hidePrompt": false
   },
   "outputs": [],
   "source": [
    "dc_info.dropna(how=\"all\",inplace=True)\n",
    "dc_info = dc_info[dc_info['zone'] == zone]\n",
    "\n",
    "def row_to_int(rowname):\n",
    "     dc_info[rowname] = dc_info[rowname].astype(int)\n",
    "\n",
    "for item in [\"itemid\",\"zone\",\"droplevel\",\"set\"]:\n",
    "    row_to_int(item)\n",
    "\n",
    "temp = {}\n",
    "for item in dc_info[\"itemid\"].values:\n",
    "    if item in current_dict:\n",
    "        item = int(item)\n",
    "        temp[item] = current_dict[item]\n",
    "    else:\n",
    "        temp[item] = None\n",
    "        \n",
    "current_dict = deepcopy(temp)"
   ]
  },
  {
   "cell_type": "code",
   "execution_count": 126,
   "id": "national-animal",
   "metadata": {
    "hideCode": false,
    "hidePrompt": false
   },
   "outputs": [
    {
     "name": "stdout",
     "output_type": "stream",
     "text": [
      "                   itemname  itemid  zone  droplevel  normal_drop  boss_drop  \\\n",
      "90              Mega Helmet     130    15          0          0.0        1.0   \n",
      "91               Mega Chest     131    15          0          0.0        1.0   \n",
      "92          Mega Blue Jeans     132    15          0          0.0        1.0   \n",
      "93               Mega Boots     133    15          0          0.0        1.0   \n",
      "94         Beam Laser Sword     134    15          0          0.0        1.0   \n",
      "95  Ascended Forest Pendant      76    15          0          0.0        1.0   \n",
      "96               The F Tank     440    15          1          1.0        1.0   \n",
      "\n",
      "    set restriction  normal_min  boss_min  \n",
      "90    1         NaN         0.0       1.0  \n",
      "91    1         NaN         0.0       1.0  \n",
      "92    1         NaN         0.0       1.0  \n",
      "93    1         NaN         0.0       1.0  \n",
      "94    1         NaN         0.0       1.0  \n",
      "95    0         NaN         0.0       1.0  \n",
      "96    0         NaN         1.0       1.0  \n"
     ]
    }
   ],
   "source": [
    "# calculate the times DC * actual DC\n",
    "if zone >= 22:  # above choco [22], the DC is cube root.\n",
    "    dc_info['normal_current'] = dc_info['normal_drop'].replace(1,0) + dc_info['normal_times'] * (mpow(dropchance/100,1/3))\n",
    "    dc_info['boss_current'] = dc_info['boss_drop'].replace(1,0) + dc_info['boss_times'] * (mpow(dropchance/100,1/3))\n",
    "else:\n",
    "    dc_info['normal_current'] = dc_info['normal_drop'].replace(1,0) + dc_info['normal_times'] * dropchance/100\n",
    "    dc_info['boss_current'] =  dc_info['boss_drop'].replace(1,0) +  dc_info['boss_times'] * dropchance/100\n",
    "\n",
    "# Because 4G is evil and mean, he takes the lower value of current DC and max. \n",
    "dc_info['normal_min'] = dc_info[['normal_max','normal_current']].min(axis=1)\n",
    "dc_info['boss_min'] = dc_info[['boss_max','boss_current']].min(axis=1)\n",
    "\n",
    "# drop the other dropchance value's since we already calculated the minimum.\n",
    "dc_info.drop(columns=['normal_max', 'normal_times','boss_max','boss_times','normal_current','boss_current'],inplace=True)\n",
    "print(dc_info)"
   ]
  },
  {
   "cell_type": "code",
   "execution_count": 127,
   "id": "veterinary-cooler",
   "metadata": {},
   "outputs": [
    {
     "data": {
      "text/html": [
       "<div>\n",
       "<style scoped>\n",
       "    .dataframe tbody tr th:only-of-type {\n",
       "        vertical-align: middle;\n",
       "    }\n",
       "\n",
       "    .dataframe tbody tr th {\n",
       "        vertical-align: top;\n",
       "    }\n",
       "\n",
       "    .dataframe thead th {\n",
       "        text-align: right;\n",
       "    }\n",
       "</style>\n",
       "<table border=\"1\" class=\"dataframe\">\n",
       "  <thead>\n",
       "    <tr style=\"text-align: right;\">\n",
       "      <th></th>\n",
       "      <th>itemname</th>\n",
       "      <th>normal_min</th>\n",
       "      <th>boss_min</th>\n",
       "    </tr>\n",
       "  </thead>\n",
       "  <tbody>\n",
       "    <tr>\n",
       "      <th>90</th>\n",
       "      <td>Mega Helmet</td>\n",
       "      <td>0.0</td>\n",
       "      <td>100.0</td>\n",
       "    </tr>\n",
       "    <tr>\n",
       "      <th>91</th>\n",
       "      <td>Mega Chest</td>\n",
       "      <td>0.0</td>\n",
       "      <td>100.0</td>\n",
       "    </tr>\n",
       "    <tr>\n",
       "      <th>92</th>\n",
       "      <td>Mega Blue Jeans</td>\n",
       "      <td>0.0</td>\n",
       "      <td>100.0</td>\n",
       "    </tr>\n",
       "    <tr>\n",
       "      <th>93</th>\n",
       "      <td>Mega Boots</td>\n",
       "      <td>0.0</td>\n",
       "      <td>100.0</td>\n",
       "    </tr>\n",
       "    <tr>\n",
       "      <th>94</th>\n",
       "      <td>Beam Laser Sword</td>\n",
       "      <td>0.0</td>\n",
       "      <td>100.0</td>\n",
       "    </tr>\n",
       "    <tr>\n",
       "      <th>95</th>\n",
       "      <td>Ascended Forest Pendant</td>\n",
       "      <td>0.0</td>\n",
       "      <td>100.0</td>\n",
       "    </tr>\n",
       "    <tr>\n",
       "      <th>96</th>\n",
       "      <td>The F Tank</td>\n",
       "      <td>100.0</td>\n",
       "      <td>100.0</td>\n",
       "    </tr>\n",
       "  </tbody>\n",
       "</table>\n",
       "</div>"
      ],
      "text/plain": [
       "                   itemname  normal_min  boss_min\n",
       "90              Mega Helmet         0.0     100.0\n",
       "91               Mega Chest         0.0     100.0\n",
       "92          Mega Blue Jeans         0.0     100.0\n",
       "93               Mega Boots         0.0     100.0\n",
       "94         Beam Laser Sword         0.0     100.0\n",
       "95  Ascended Forest Pendant         0.0     100.0\n",
       "96               The F Tank       100.0     100.0"
      ]
     },
     "execution_count": 127,
     "metadata": {},
     "output_type": "execute_result"
    }
   ],
   "source": [
    "dc_info_human = dc_info[[\"itemname\",\"normal_min\",\"boss_min\"]]\n",
    "dc_info_human[\"normal_min\"] = dc_info_human[\"normal_min\"] * 100\n",
    "dc_info_human[\"boss_min\"] = dc_info_human[\"boss_min\"] * 100\n",
    "dc_info_human"
   ]
  },
  {
   "cell_type": "code",
   "execution_count": 128,
   "id": "considerable-explanation",
   "metadata": {
    "hideCode": false,
    "hidePrompt": false
   },
   "outputs": [],
   "source": [
    "# boss_group -> all boss items\n",
    "# boss_set_items -> all set items from the boss [first set]\n",
    "# boss_other_items -> all items which are not in the set\n",
    "# boss_set_items_2 -> second set items from the boss\n",
    "# temp_set / temp_set_2 -> temp variable to replace the set group, with a single reference\n",
    "# reference_boss -> the other items together with a reference.\n",
    "multiple_sets = any(dc_info[dc_info['boss_drop'] != 0][\"set\"].isin([2]))\n",
    "\n",
    "# Make a new dataframe with in it only the boss drops\n",
    "boss_group = dc_info[dc_info['boss_drop'] != 0][['itemid','boss_min','droplevel','set','restriction']]\n",
    "boss_group.rename(columns={'boss_min': 'min'},inplace=True)\\\n",
    "\n",
    "# Here we make a new csv with in it only the set items and everything except the set items\n",
    "boss_set_items = boss_group[boss_group['set'] == 1]\n",
    "boss_other_items = boss_group[boss_group['set'] == 0]\n",
    "\n",
    "if multiple_sets:\n",
    "    boss_set_items_2 = boss_group[boss_group['set'] == 2]\n",
    "    temp_set_2 = boss_set_items_2.head(1)\n",
    "    temp_set_2['itemid'][temp_set_2.index.values[0]] = 'set2'\n",
    "\n",
    "# Add a \"set\" reference in the boss group and remove all the set items, since we now have a reference.\n",
    "temp_set = boss_set_items.head(1)\n",
    "temp_set['itemid'][temp_set.index.values[0]] = 'set'\n",
    "\n",
    "reference_boss = boss_other_items.append(temp_set)\n",
    "if multiple_sets:\n",
    "    reference_boss = reference_boss.append(temp_set_2)\n",
    "\n",
    "# clean the temp group\n",
    "del temp_set\n",
    "\n",
    "if multiple_sets:\n",
    "    del temp_set_2"
   ]
  },
  {
   "cell_type": "code",
   "execution_count": 129,
   "id": "reserved-technical",
   "metadata": {
    "hideCode": false,
    "hidePrompt": false
   },
   "outputs": [],
   "source": [
    "# normal_group -> all normal items\n",
    "# normal_set_items -> all set items from the boss [first set]\n",
    "# normal_other_items -> all items which are not in the set\n",
    "# temp_set -> temp variable to replace the set group, with a single reference\n",
    "# reference_normal -> the other items together with a reference.\n",
    "\n",
    "# same process as above.\n",
    "normal_group = dc_info[dc_info['normal_drop'] != 0][['itemid','normal_min','droplevel','set','restriction']]\n",
    "normal_group.rename(columns={'normal_min': 'min'},inplace=True)\n",
    "\n",
    "normal_set_items = normal_group[normal_group['set'] != 0]\n",
    "normal_other_items = normal_group[normal_group['set'] == 0]\n",
    "\n",
    "\n",
    "try:\n",
    "    temp_set = normal_set_items.head(1)\n",
    "    temp_set['itemid'][temp_set.index.values[0]] = 'set'\n",
    "    reference_normal = normal_other_items.append(temp_set)\n",
    "except:\n",
    "    pass\n",
    "\n",
    "\n",
    "del temp_set"
   ]
  },
  {
   "cell_type": "code",
   "execution_count": 130,
   "id": "engaged-exhibit",
   "metadata": {
    "hideCode": false,
    "hidePrompt": false
   },
   "outputs": [],
   "source": [
    "# Dictionary which we use to get the values.\n",
    "# Asking pandas for the data is considerably slower then python's normal dictionary's\n",
    "boss_item_lst = boss_group['itemid'].values\n",
    "normal_item_lst = normal_group['itemid'].values\n",
    "\n",
    "# Same stuff but now I only get the set items.\n",
    "if multiple_sets:\n",
    "    boss_set_lst_2 = boss_set_items_2['itemid'].values\n",
    "    len_boss_set_lst_2 = len(boss_set_lst_2)\n",
    "\n",
    "normal_set_lst = normal_set_items['itemid'].values\n",
    "len_normal_set_lst = len(normal_set_lst)\n",
    "\n",
    "boss_set_lst = boss_set_items['itemid'].values\n",
    "len_boss_set_lst = len(boss_set_lst)\n",
    "\n",
    "# Here I make a dictionary with the dropchance for each item. I also add the set reference back.\n",
    "normal_dc_dic = normal_group[['itemid','min']].set_index('itemid').to_dict()['min']\n",
    "try:\n",
    "    normal_dc_dic['set'] = normal_set_items['min'].values[0]\n",
    "except:\n",
    "    pass\n",
    "\n",
    "# Same for bosses\n",
    "boss_dc_dic = boss_group[['itemid','min']].set_index('itemid').to_dict()['min']\n",
    "boss_dc_dic['set'] = boss_set_items['min'].values[0]\n",
    "\n",
    "if multiple_sets:\n",
    "    boss_dc_dic['set2'] = boss_set_items_2['min'].values[0]\n",
    "    \n",
    "    \n",
    "# I also repeat this for the level at which item is dropped.\n",
    "normal_drop_level_dict = normal_group[['itemid','droplevel']].set_index('itemid').to_dict()['droplevel']\n",
    "boss_drop_level_dict = boss_group[['itemid','droplevel']].set_index('itemid').to_dict()['droplevel']\n",
    "\n",
    "# This is a list if there are restrictions for any item.\n",
    "#TODO:  Maybe I can make these values into a list here too.\n",
    "restriction_dict = dc_info[['itemid','restriction']].set_index('itemid').to_dict()['restriction']"
   ]
  },
  {
   "cell_type": "code",
   "execution_count": 131,
   "id": "gorgeous-blair",
   "metadata": {},
   "outputs": [
    {
     "ename": "NameError",
     "evalue": "name 'reference_normal' is not defined",
     "output_type": "error",
     "traceback": [
      "\u001b[1;31m---------------------------------------------------------------------------\u001b[0m",
      "\u001b[1;31mNameError\u001b[0m                                 Traceback (most recent call last)",
      "\u001b[1;32m<ipython-input-131-a84b528ce011>\u001b[0m in \u001b[0;36m<module>\u001b[1;34m\u001b[0m\n\u001b[0;32m      3\u001b[0m     \u001b[1;32mdel\u001b[0m \u001b[0mboss_set_items_2\u001b[0m\u001b[1;33m\u001b[0m\u001b[1;33m\u001b[0m\u001b[0m\n\u001b[0;32m      4\u001b[0m \u001b[1;32mdel\u001b[0m \u001b[0mboss_group\u001b[0m\u001b[1;33m,\u001b[0m \u001b[0mboss_set_items\u001b[0m\u001b[1;33m,\u001b[0m \u001b[0mboss_other_items\u001b[0m\u001b[1;33m,\u001b[0m \u001b[0mreference_boss\u001b[0m\u001b[1;33m\u001b[0m\u001b[1;33m\u001b[0m\u001b[0m\n\u001b[1;32m----> 5\u001b[1;33m \u001b[1;32mdel\u001b[0m \u001b[0mnormal_group\u001b[0m\u001b[1;33m,\u001b[0m \u001b[0mnormal_set_items\u001b[0m\u001b[1;33m,\u001b[0m \u001b[0mnormal_other_items\u001b[0m\u001b[1;33m,\u001b[0m\u001b[0mreference_normal\u001b[0m\u001b[1;33m\u001b[0m\u001b[1;33m\u001b[0m\u001b[0m\n\u001b[0m",
      "\u001b[1;31mNameError\u001b[0m: name 'reference_normal' is not defined"
     ]
    }
   ],
   "source": [
    "# clean variables\n",
    "if multiple_sets:\n",
    "    del boss_set_items_2\n",
    "del boss_group, boss_set_items, boss_other_items, reference_boss\n",
    "del normal_group, normal_set_items, normal_other_items,reference_normal"
   ]
  },
  {
   "cell_type": "code",
   "execution_count": 153,
   "id": "apparent-lincoln",
   "metadata": {},
   "outputs": [
    {
     "data": {
      "text/plain": [
       "array([440])"
      ]
     },
     "execution_count": 153,
     "metadata": {},
     "output_type": "execute_result"
    }
   ],
   "source": [
    "normal_item_lst"
   ]
  },
  {
   "cell_type": "markdown",
   "id": "private-dutch",
   "metadata": {
    "hideCode": false,
    "hidePrompt": false
   },
   "source": [
    "# SIMULATION INFORMATION"
   ]
  },
  {
   "cell_type": "code",
   "execution_count": 132,
   "id": "passive-planning",
   "metadata": {
    "scrolled": true
   },
   "outputs": [
    {
     "name": "stdout",
     "output_type": "stream",
     "text": [
      "Mega Helmet : None\n",
      "Mega Chest : None\n",
      "Mega Blue Jeans : None\n",
      "Mega Boots : None\n",
      "Beam Laser Sword : None\n",
      "Ascended Forest Pendant : None\n",
      "The F Tank : None\n"
     ]
    }
   ],
   "source": [
    "future = {}\n",
    "for item in current_dict.keys():\n",
    "    future[item] = 100\n",
    "    print(dc_info[dc_info[\"itemid\"] == item][\"itemname\"].values[0],\":\",current_dict[item])"
   ]
  },
  {
   "cell_type": "code",
   "execution_count": 133,
   "id": "surprised-sucking",
   "metadata": {},
   "outputs": [
    {
     "name": "stdout",
     "output_type": "stream",
     "text": [
      "Mega Helmet 100\n",
      "Mega Chest 100\n",
      "Mega Blue Jeans 100\n",
      "Mega Boots 100\n",
      "Beam Laser Sword 100\n",
      "Ascended Forest Pendant 100\n",
      "The F Tank 100\n"
     ]
    }
   ],
   "source": [
    "for item in future.keys():\n",
    "    print(dc_info[dc_info[\"itemid\"] == item][\"itemname\"].values[0],future[item])\n",
    "del dc_info"
   ]
  },
  {
   "cell_type": "code",
   "execution_count": 134,
   "id": "optical-probability",
   "metadata": {},
   "outputs": [
    {
     "name": "stdout",
     "output_type": "stream",
     "text": [
      "130 : None ,\n",
      "131 : None ,\n",
      "132 : None ,\n",
      "133 : None ,\n",
      "134 : None ,\n",
      "76 : None ,\n",
      "440 : None ,\n"
     ]
    }
   ],
   "source": [
    "for item in current_dict.keys():\n",
    "    print(item, \":\",current_dict[item], \",\")"
   ]
  },
  {
   "cell_type": "code",
   "execution_count": 158,
   "id": "embedded-resort",
   "metadata": {},
   "outputs": [],
   "source": [
    "future = {\n",
    "130 : 100 ,\n",
    "131 : 100 ,\n",
    "132 : 100 ,\n",
    "133 : 100 ,\n",
    "134 : 100 ,\n",
    "76 : 100 ,\n",
    "440 : 100 }"
   ]
  },
  {
   "cell_type": "code",
   "execution_count": 159,
   "id": "further-following",
   "metadata": {},
   "outputs": [
    {
     "data": {
      "text/plain": [
       "{130: None, 131: None, 132: None, 133: None, 134: None, 76: None, 440: 36}"
      ]
     },
     "execution_count": 159,
     "metadata": {},
     "output_type": "execute_result"
    }
   ],
   "source": [
    "current"
   ]
  },
  {
   "cell_type": "markdown",
   "id": "minor-italic",
   "metadata": {
    "hideCode": false,
    "hidePrompt": false
   },
   "source": [
    "# simulation"
   ]
  },
  {
   "cell_type": "code",
   "execution_count": 169,
   "id": "steady-finland",
   "metadata": {
    "hideCode": false,
    "hidePrompt": false
   },
   "outputs": [],
   "source": [
    "def check_end():\n",
    "    '''\n",
    "    Here we check if we should end the simulation. \n",
    "    If for every current item [+ drops] is higher then the future [wanted items]\n",
    "    Then we stop the simulation.\n",
    "    \n",
    "    We will have an endless loop is future is above 100 or negative.\n",
    "    This makes me sad because it means that people won't take the simulation serious :(.\n",
    "    I have to fix this in the future but check the todo list lazy me.\n",
    "    '''\n",
    "    for row in current:\n",
    "        if future[row] == None:\n",
    "            pass\n",
    "        \n",
    "        elif current[row] == None:\n",
    "            return False\n",
    "        \n",
    "        elif current[row] < future[row]:\n",
    "            return False\n",
    "    return True\n",
    "\n",
    "def proc():\n",
    "    '''\n",
    "    Because there is not enough randomness in the game, 4G added a way to get higher level drops.\n",
    "    Each of these add together meaning you can get +1 extra levels. \n",
    "    This function takes account for that.\n",
    "    '''\n",
    "    \n",
    "    chance = extra_level_dic['loot_goblin'] * 0.01\n",
    "    chance += 0.1 if extra_level_dic['gaudy'] else 0\n",
    "    chance += 0.05 if extra_level_dic['fib_144'] else 0\n",
    "    \n",
    "    return 1 if random() < chance else 0\n",
    "\n",
    "\n",
    "def add_drop(drop_item,drop_level,restriction_lst):\n",
    "    '''\n",
    "    I wonder what this function does given its obvious function name.\n",
    "    \n",
    "    We first see if the item drops, if yes then we add the drop + proc(), and if its above level 100 we change that.\n",
    "    \n",
    "    If return is True, that means a new drop is added. If its already level 100, we don't need to check it.\n",
    "    '''\n",
    "    \n",
    "    if current[drop_item] == 100:\n",
    "        return False\n",
    "    \n",
    "    if type(restriction_lst[drop_item]) == str:\n",
    "        restriction_lst = restriction_lst[drop_item].split(\",\")\n",
    "\n",
    "        for item in restriction_lst:\n",
    "            if current[int(item)] != 100:\n",
    "                return False\n",
    "    \n",
    "    if drop_level[drop_item] != 0:\n",
    "        \n",
    "        if current[drop_item] == None:\n",
    "            current[drop_item] = min(drop_level[drop_item] + proc(),100)\n",
    "            \n",
    "        else:\n",
    "            current[drop_item] = min(current[drop_item] + drop_level[drop_item] + proc() + 1,100)\n",
    "        \n",
    "    else: \n",
    "        if current[drop_item] == None:\n",
    "            current[drop_item] = min(drop_level[drop_item],100)\n",
    "            \n",
    "        else:\n",
    "            current[drop_item] = min(current[drop_item] + drop_level[drop_item] + 1,100)\n",
    "    \n",
    "    return True\n",
    "\n",
    "def check_set_100(set_lst):\n",
    "    for item in set_lst:\n",
    "        if current[item] != 100:\n",
    "            return False\n",
    "    return True"
   ]
  },
  {
   "cell_type": "code",
   "execution_count": 170,
   "id": "otherwise-relations",
   "metadata": {
    "hideCode": false,
    "hidePrompt": false
   },
   "outputs": [],
   "source": [
    "# current = deepcopy(statfile.levels_now)\n",
    "\n",
    "def sim():\n",
    "    steps = 0\n",
    "    \n",
    "    # Because I am interested in how slow my simulation is, I can calculate the duration!\n",
    "    start = time()\n",
    "    drop = False\n",
    "    set_complete = False\n",
    "    set_2_complete = False\n",
    "    \n",
    "    # run forever because NGU never stops.\n",
    "    while True:    \n",
    "        boss = 1 if random() < bosschance else 0\n",
    "        # decided if a boss spawns according to the bosschance \n",
    "        if not boss:\n",
    "            for item in normal_item_lst:\n",
    "                if len(normal_set_lst) and not set_complete and item == 'set' and random() < normal_dc_dic[item]:\n",
    "                    # add the drop if the random() is below the minimum DC to a random set item.\n",
    "                    drop += add_drop(normal_set_lst[randint(0,len_normal_set_lst)],normal_drop_level_dict,restriction_dict)\n",
    "                elif item != 'set' and random() < normal_dc_dic[item]:\n",
    "                    # and here it does the same process but for other items bosses drop.\n",
    "                    drop += add_drop(item,normal_drop_level_dict,restriction_dict)\n",
    "                    \n",
    "        else:\n",
    "            # the same process is repeated for normal. It really is not that hard.\n",
    "            for item in boss_item_lst:\n",
    "                if len(boss_set_lst) and not set_complete and item == 'set' and random() < boss_dc_dic[item]:\n",
    "                    drop += add_drop(boss_set_lst[randint(0,len_boss_set_lst)],boss_drop_level_dict,restriction_dict)\n",
    "\n",
    "                elif multiple_sets and not set_2_complete and item == \"set2\" and random() < boss_dc_dic[item]: \n",
    "                    drop += add_drop(boss_second_set_lst[randint(0,len_boss_second_set_lst)],boss_drop_level_dict,restriction_dict)\n",
    "\n",
    "                elif item != 'set' and item != 'set2' and random() < boss_dc_dic[item]:\n",
    "                    drop += add_drop(item,boss_drop_level_dict,restriction_dict)\n",
    "\n",
    "        # or maybe it does stop one day.\n",
    "        if drop and check_end():\n",
    "            # checks if a new maxxed item dropped, and the end is done.\n",
    "            break\n",
    "        else:\n",
    "            if not set_complete:\n",
    "                set_complete = check_set_100(boss_set_lst)\n",
    "            \n",
    "            if multiple_sets and not set_2_complete:\n",
    "                set_2_complete = check_set_100(boss_second_set_lst)\n",
    "            \n",
    "            drop = False\n",
    "            \n",
    "        # Here we have the best creation of the entire simulation. A counter.\n",
    "        steps += 1\n",
    "        print(steps,current) if steps % 100000 == 0 else None\n",
    "\n",
    "    return(time() - start, current, steps)"
   ]
  },
  {
   "cell_type": "code",
   "execution_count": 171,
   "id": "right-karma",
   "metadata": {
    "hideCode": false,
    "hidePrompt": false
   },
   "outputs": [],
   "source": [
    "current = deepcopy(current_dict)\n",
    "%lprun -f sim sim()"
   ]
  },
  {
   "cell_type": "code",
   "execution_count": 173,
   "id": "plain-adaptation",
   "metadata": {
    "hideCode": false,
    "hidePrompt": false
   },
   "outputs": [
    {
     "name": "stderr",
     "output_type": "stream",
     "text": [
      "100%|██████████████████████████████████████████████████████████████████████████████| 5000/5000 [01:05<00:00, 76.19it/s]\n"
     ]
    }
   ],
   "source": [
    "time_lst = []\n",
    "enemies_lst = []\n",
    "gear_lst = []\n",
    "max_runs = 5000\n",
    "\n",
    "for i in tqdm(range(max_runs)):\n",
    "    current = deepcopy(current_dict)\n",
    "    total_time, reward, enemies = sim()\n",
    "    gear_lst.append(reward)\n",
    "    time_lst.append(enemies * (respawn + 0.8 * hits_to_kill))\n",
    "    enemies_lst.append(enemies)"
   ]
  },
  {
   "cell_type": "code",
   "execution_count": 181,
   "id": "amber-november",
   "metadata": {},
   "outputs": [
    {
     "data": {
      "text/plain": [
       "5000"
      ]
     },
     "execution_count": 181,
     "metadata": {},
     "output_type": "execute_result"
    }
   ],
   "source": [
    "len(gear_lst)"
   ]
  },
  {
   "cell_type": "code",
   "execution_count": 182,
   "id": "settled-geology",
   "metadata": {
    "hideCode": false,
    "hidePrompt": false
   },
   "outputs": [],
   "source": [
    "density_value = False\n",
    "bin_divider = 10"
   ]
  },
  {
   "cell_type": "code",
   "execution_count": 183,
   "id": "statistical-madison",
   "metadata": {
    "hideCode": false,
    "hidePrompt": false
   },
   "outputs": [
    {
     "data": {
      "image/png": "[encoded data removed]",
      "text/plain": [
       "<Figure size 432x288 with 1 Axes>"
      ]
     },
     "metadata": {
      "needs_background": "light"
     },
     "output_type": "display_data"
    }
   ],
   "source": [
    "plt.hist(enemies_lst,density=density_value,bins=int(max_runs/bin_divider))\n",
    "plt.title(\"Total enemies required to kill\")\n",
    "plt.xlabel(\"Amount of enemies to get future gear\")\n",
    "plt.ylabel(f\"simulation count out of {max_runs}\")\n",
    "plt.show()"
   ]
  },
  {
   "cell_type": "code",
   "execution_count": 184,
   "id": "efficient-atlantic",
   "metadata": {},
   "outputs": [
    {
     "data": {
      "image/png": "[encoded data removed]",
      "text/plain": [
       "<Figure size 432x288 with 1 Axes>"
      ]
     },
     "metadata": {
      "needs_background": "light"
     },
     "output_type": "display_data"
    }
   ],
   "source": [
    "gear_total_dict = {}\n",
    "for j in gear_lst[0].keys():\n",
    "    gear_total_dict[j] = list()\n",
    "\n",
    "for i in gear_lst:\n",
    "    for j in i.keys():\n",
    "        if i[j] == None:\n",
    "            gear_total_dict[j].append(-1)\n",
    "        else:\n",
    "            gear_total_dict[j].append(i[j])\n",
    "\n",
    "labels, data = [*zip(*gear_total_dict.items())]  # 'transpose' items to parallel key, value lists\n",
    "\n",
    "# or backwards compatable    \n",
    "labels, data = gear_total_dict.keys(), gear_total_dict.values()\n",
    "\n",
    "plt.boxplot(data)\n",
    "plt.xticks(range(1, len(labels) + 1), labels)\n",
    "plt.show()"
   ]
  },
  {
   "cell_type": "code",
   "execution_count": 185,
   "id": "international-principal",
   "metadata": {
    "hideCode": false,
    "hidePrompt": false
   },
   "outputs": [
    {
     "data": {
      "image/png": "[encoded data removed]",
      "text/plain": [
       "<Figure size 432x288 with 1 Axes>"
      ]
     },
     "metadata": {
      "needs_background": "light"
     },
     "output_type": "display_data"
    }
   ],
   "source": [
    "plt.title(\"Total seconds to max zone\")\n",
    "plt.xlabel(\"Amount of seconds in the zone to get future gear\")\n",
    "plt.ylabel(f\"simulation count out of {max_runs}\")\n",
    "plt.hist(time_lst,bins=int(max_runs/bin_divider))\n",
    "plt.show()"
   ]
  },
  {
   "cell_type": "code",
   "execution_count": 186,
   "id": "unauthorized-stephen",
   "metadata": {
    "hideCode": false,
    "hidePrompt": false
   },
   "outputs": [
    {
     "data": {
      "image/png": "[encoded data removed]",
      "text/plain": [
       "<Figure size 432x288 with 1 Axes>"
      ]
     },
     "metadata": {
      "needs_background": "light"
     },
     "output_type": "display_data"
    }
   ],
   "source": [
    "plt.title(\"Total Minuts to max zone\")\n",
    "plt.xlabel(\"Amount of Minuts in the zone to get future gear\")\n",
    "plt.ylabel(f\"simulation count out of {max_runs}\")\n",
    "plt.hist([i/60 for i in time_lst],bins=int(max_runs/bin_divider))\n",
    "plt.show()"
   ]
  },
  {
   "cell_type": "code",
   "execution_count": 187,
   "id": "elementary-coordinate",
   "metadata": {},
   "outputs": [
    {
     "data": {
      "image/png": "[encoded data removed]",
      "text/plain": [
       "<Figure size 432x288 with 1 Axes>"
      ]
     },
     "metadata": {
      "needs_background": "light"
     },
     "output_type": "display_data"
    }
   ],
   "source": [
    "plt.title(\"Total Hours to max zone\")\n",
    "plt.xlabel(\"Amount of Hours in the zone to get future gear\")\n",
    "plt.ylabel(f\"simulation count out of {max_runs}\")\n",
    "plt.hist([i/3600 for i in time_lst],bins=int(max_runs/bin_divider))\n",
    "plt.show()"
   ]
  },
  {
   "cell_type": "code",
   "execution_count": null,
   "id": "bizarre-flooring",
   "metadata": {},
   "outputs": [],
   "source": []
  }
 ],
 "metadata": {
  "hide_code_all_hidden": false,
  "kernelspec": {
   "display_name": "Python 3",
   "language": "python",
   "name": "python3"
  },
  "language_info": {
   "codemirror_mode": {
    "name": "ipython",
    "version": 3
   },
   "file_extension": ".py",
   "mimetype": "text/x-python",
   "name": "python",
   "nbconvert_exporter": "python",
   "pygments_lexer": "ipython3",
   "version": "3.6.8"
  }
 },
 "nbformat": 4,
 "nbformat_minor": 5
}